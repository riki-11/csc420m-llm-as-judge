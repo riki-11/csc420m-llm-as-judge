{
 "cells": [
  {
   "cell_type": "markdown",
   "id": "79c7e37a",
   "metadata": {},
   "source": [
    "# Agentic LLM-as-a-Judge for English-to-Filipino Translations\n",
    "Enrique Lejano & Monica Manlises | CSC420M G01"
   ]
  },
  {
   "cell_type": "markdown",
   "id": "9b162e5a",
   "metadata": {},
   "source": [
    "## Install Dependencies"
   ]
  },
  {
   "cell_type": "code",
   "execution_count": 2,
   "id": "1a65cbf2",
   "metadata": {},
   "outputs": [
    {
     "name": "stdout",
     "output_type": "stream",
     "text": [
      "\u001b[33mWARNING: Retrying (Retry(total=4, connect=None, read=None, redirect=None, status=None)) after connection broken by 'ReadTimeoutError(\"HTTPSConnectionPool(host='pypi.org', port=443): Read timed out. (read timeout=15)\")': /simple/langchain-google-genai/\u001b[0m\u001b[33m\n",
      "\u001b[0mNote: you may need to restart the kernel to use updated packages.\n"
     ]
    }
   ],
   "source": [
    "%pip install -U langchain-google-genai python-dotenv langchain-core --quiet"
   ]
  },
  {
   "cell_type": "markdown",
   "id": "68ec1860",
   "metadata": {},
   "source": [
    "## Import Libraries and Setup"
   ]
  },
  {
   "cell_type": "code",
   "execution_count": 40,
   "id": "27529c3e",
   "metadata": {},
   "outputs": [
    {
     "data": {
      "text/plain": [
       "True"
      ]
     },
     "execution_count": 40,
     "metadata": {},
     "output_type": "execute_result"
    }
   ],
   "source": [
    "from dotenv import load_dotenv\n",
    "from langchain_google_genai import ChatGoogleGenerativeAI\n",
    "from langchain_core.prompts import ChatPromptTemplate, FewShotChatMessagePromptTemplate, AIMessagePromptTemplate, HumanMessagePromptTemplate, SystemMessagePromptTemplate\n",
    "from langchain_core.messages import HumanMessage, AIMessage\n",
    "import pandas as pd\n",
    "\n",
    "load_dotenv()"
   ]
  },
  {
   "cell_type": "code",
   "execution_count": null,
   "id": "f2fc153e",
   "metadata": {},
   "outputs": [],
   "source": [
    "from langchain_google_genai import ChatGoogleGenerativeAI\n",
    "from langchain_core.prompts import PromptTemplate\n",
    "from langchain_core.messages import HumanMessage\n",
    "\n",
    "\n",
    "llm = ChatGoogleGenerativeAI(\n",
    "    model=\"gemini-2.0-flash\",\n",
    "    temperature=0,\n",
    "    max_tokens=None,\n",
    "    timeout=None,\n",
    "    max_retries=2,\n",
    ")"
   ]
  },
  {
   "cell_type": "code",
   "execution_count": null,
   "id": "ce85470c",
   "metadata": {},
   "outputs": [],
   "source": [
    "template = \"\"\"\n",
    "You are a professional translation evaluator. Your job is to judge the quality of a Filipino translation of an English sentence.\n",
    "\n",
    "Assess the translation using the following criteria:\n",
    "- **Adequacy (0–100)**: How well does it preserve the original meaning?\n",
    "- **Fluency (0–100)**: How natural and grammatically correct is the Filipino?\n",
    "- **Lexical Choice (0–100)**: Are the word choices appropriate and accurate?\n",
    "\n",
    "Then:\n",
    "- Provide a final verdict: Good or Needs Improvement\n",
    "- Give a short explanation of why.\n",
    "\n",
    "English Sentence:\n",
    "{english}\n",
    "\n",
    "Filipino Translation:\n",
    "{filipino}\n",
    "\n",
    "Please format your response like this:\n",
    "\n",
    "Verdict: ...\n",
    "Adequacy: ...\n",
    "Fluency: ...\n",
    "Lexical Choice: ...\n",
    "Explanation:\n",
    "...\n",
    "\"\"\"\n",
    "\n",
    "prompt = PromptTemplate(\n",
    "    input_variables=[\"english\", \"filipino\"],\n",
    "    template=template\n",
    ")"
   ]
  },
  {
   "cell_type": "code",
   "execution_count": 7,
   "id": "a37c2731",
   "metadata": {},
   "outputs": [],
   "source": [
    "def evaluate_translation(english: str, filipino: str):\n",
    "    formatted_prompt = prompt.format(english=english, filipino=filipino)\n",
    "    response = llm([HumanMessage(content=formatted_prompt)])\n",
    "    return response.content"
   ]
  },
  {
   "cell_type": "code",
   "execution_count": null,
   "id": "bc9e73b9",
   "metadata": {},
   "outputs": [
    {
     "name": "stderr",
     "output_type": "stream",
     "text": [
      "<ipython-input-7-b20f386aeecd>:3: LangChainDeprecationWarning: The method `BaseChatModel.__call__` was deprecated in langchain-core 0.1.7 and will be removed in 1.0. Use :meth:`~invoke` instead.\n",
      "  response = llm([HumanMessage(content=formatted_prompt)])\n"
     ]
    },
    {
     "name": "stdout",
     "output_type": "stream",
     "text": [
      "Verdict: Needs Improvement\n",
      "Adequacy: 85\n",
      "Fluency: 75\n",
      "Lexical Choice: 80\n",
      "\n",
      "Explanation:\n",
      "While the translation captures the core meaning, it could be improved in terms of fluency and lexical choice.\n",
      "\n",
      "*   **Adequacy:** The translation conveys the essential meaning of ensuring compliance.\n",
      "*   **Fluency:** The sentence structure is slightly awkward. A more natural phrasing might be \"Pakisiguro na ang sistema ay sumusunod sa mga bagong patakaran.\" The use of \"ay\" after \"sistema\" is grammatically correct but can sound less fluent in modern Filipino.\n",
      "*   **Lexical Choice:** \"Patakaran\" is generally correct for \"policy,\" but \"mga bagong patakaran\" (plural) would be more accurate since \"policies\" is plural in the original English sentence. Also, \"sumunod\" is a good choice for \"compliant,\" but \"tumalima\" could also be considered for a more formal tone.\n"
     ]
    }
   ],
   "source": [
    "eng = \"Please ensure the system is compliant with the new policies.\"\n",
    "flawed_tl = \"Siguraduhin ang sistema ay sumunod sa bagong patakaran.\"\n",
    "\n",
    "result = evaluate_translation(eng, flawed_tl)\n",
    "print(result)"
   ]
  },
  {
   "cell_type": "markdown",
   "id": "827f87fb",
   "metadata": {},
   "source": [
    "## Load Dataset"
   ]
  },
  {
   "cell_type": "code",
   "execution_count": 42,
   "id": "c53931ae",
   "metadata": {},
   "outputs": [],
   "source": [
    "dataset_path = \"../datasets/training.csv\""
   ]
  },
  {
   "cell_type": "code",
   "execution_count": 43,
   "id": "959971d6",
   "metadata": {},
   "outputs": [
    {
     "data": {
      "application/vnd.microsoft.datawrangler.viewer.v0+json": {
       "columns": [
        {
         "name": "index",
         "rawType": "int64",
         "type": "integer"
        },
        {
         "name": "English",
         "rawType": "object",
         "type": "string"
        },
        {
         "name": "Filipino-Correct",
         "rawType": "object",
         "type": "string"
        },
        {
         "name": "Filipino-Flawed",
         "rawType": "object",
         "type": "string"
        },
        {
         "name": "Remarks",
         "rawType": "object",
         "type": "unknown"
        }
       ],
       "ref": "38207252-aa42-4476-ad01-ba1d2aa7953b",
       "rows": [
        [
         "0",
         "The Philippines is an archipelago made up of over 7,640 islands, though only about 2,000 are inhabited.",
         "Ang Pilipinas ay isang kapulaang binubuo ng 7,640 na isla, ngunit 2,000 lamang ang tinitirahan",
         "Ang Pilipinas ay isang puno na binubuo ng mahigit 7,640 manok, bagaman halos 2,000 lamang ang tumira.",
         null
        ],
        [
         "1",
         "Philippines is the world's second-largest archipelago.",
         "Ang Pilipinas ang pangalawa sa pinakamalaking kapuluan sa mundo",
         "Ang Pilipinas ay ang pangalawang malaking isla sa asya",
         null
        ],
        [
         "2",
         "Filipino and English are the two official languages of the Philippines.",
         "Filipino at Ingles ang dalawang opisyal na lingwahe ng Pilipinas",
         "Tagalog at Ingles ang dalawa opisyal lingwahe ng mga Pilipinas",
         null
        ],
        [
         "3",
         "Tagalog is the most widely spoken native language and forms the basis of Filipino.",
         "Tagalog ang pinakamalawak at ginagamit na katutubong wika at naging batayan ng Filipino",
         "Tagalog ay ang pinaka malawak sinasabi katutubo lingwahe at mga porma ng batayan ng Filipino",
         null
        ],
        [
         "4",
         "The Philippines was a Spanish colony for over 300 years.",
         "Ang Pilipinas ay naging isang kolonya ng Espanya ng mahigit 300 na taon",
         "Pilipinas naging Espanya Kolonya sa higit 300 na araw",
         null
        ]
       ],
       "shape": {
        "columns": 4,
        "rows": 5
       }
      },
      "text/html": [
       "<div>\n",
       "<style scoped>\n",
       "    .dataframe tbody tr th:only-of-type {\n",
       "        vertical-align: middle;\n",
       "    }\n",
       "\n",
       "    .dataframe tbody tr th {\n",
       "        vertical-align: top;\n",
       "    }\n",
       "\n",
       "    .dataframe thead th {\n",
       "        text-align: right;\n",
       "    }\n",
       "</style>\n",
       "<table border=\"1\" class=\"dataframe\">\n",
       "  <thead>\n",
       "    <tr style=\"text-align: right;\">\n",
       "      <th></th>\n",
       "      <th>English</th>\n",
       "      <th>Filipino-Correct</th>\n",
       "      <th>Filipino-Flawed</th>\n",
       "      <th>Remarks</th>\n",
       "    </tr>\n",
       "  </thead>\n",
       "  <tbody>\n",
       "    <tr>\n",
       "      <th>0</th>\n",
       "      <td>The Philippines is an archipelago made up of o...</td>\n",
       "      <td>Ang Pilipinas ay isang kapulaang binubuo ng 7,...</td>\n",
       "      <td>Ang Pilipinas ay isang puno na binubuo ng mahi...</td>\n",
       "      <td>NaN</td>\n",
       "    </tr>\n",
       "    <tr>\n",
       "      <th>1</th>\n",
       "      <td>Philippines is the world's second-largest arch...</td>\n",
       "      <td>Ang Pilipinas ang pangalawa sa pinakamalaking ...</td>\n",
       "      <td>Ang Pilipinas ay ang pangalawang malaking isla...</td>\n",
       "      <td>NaN</td>\n",
       "    </tr>\n",
       "    <tr>\n",
       "      <th>2</th>\n",
       "      <td>Filipino and English are the two official lang...</td>\n",
       "      <td>Filipino at Ingles ang dalawang opisyal na lin...</td>\n",
       "      <td>Tagalog at Ingles ang dalawa opisyal lingwahe ...</td>\n",
       "      <td>NaN</td>\n",
       "    </tr>\n",
       "    <tr>\n",
       "      <th>3</th>\n",
       "      <td>Tagalog is the most widely spoken native langu...</td>\n",
       "      <td>Tagalog ang pinakamalawak at ginagamit na katu...</td>\n",
       "      <td>Tagalog ay ang pinaka malawak sinasabi katutub...</td>\n",
       "      <td>NaN</td>\n",
       "    </tr>\n",
       "    <tr>\n",
       "      <th>4</th>\n",
       "      <td>The Philippines was a Spanish colony for over ...</td>\n",
       "      <td>Ang Pilipinas ay naging isang kolonya ng Espan...</td>\n",
       "      <td>Pilipinas naging Espanya Kolonya sa higit 300 ...</td>\n",
       "      <td>NaN</td>\n",
       "    </tr>\n",
       "  </tbody>\n",
       "</table>\n",
       "</div>"
      ],
      "text/plain": [
       "                                             English  \\\n",
       "0  The Philippines is an archipelago made up of o...   \n",
       "1  Philippines is the world's second-largest arch...   \n",
       "2  Filipino and English are the two official lang...   \n",
       "3  Tagalog is the most widely spoken native langu...   \n",
       "4  The Philippines was a Spanish colony for over ...   \n",
       "\n",
       "                                    Filipino-Correct  \\\n",
       "0  Ang Pilipinas ay isang kapulaang binubuo ng 7,...   \n",
       "1  Ang Pilipinas ang pangalawa sa pinakamalaking ...   \n",
       "2  Filipino at Ingles ang dalawang opisyal na lin...   \n",
       "3  Tagalog ang pinakamalawak at ginagamit na katu...   \n",
       "4  Ang Pilipinas ay naging isang kolonya ng Espan...   \n",
       "\n",
       "                                     Filipino-Flawed Remarks  \n",
       "0  Ang Pilipinas ay isang puno na binubuo ng mahi...     NaN  \n",
       "1  Ang Pilipinas ay ang pangalawang malaking isla...     NaN  \n",
       "2  Tagalog at Ingles ang dalawa opisyal lingwahe ...     NaN  \n",
       "3  Tagalog ay ang pinaka malawak sinasabi katutub...     NaN  \n",
       "4  Pilipinas naging Espanya Kolonya sa higit 300 ...     NaN  "
      ]
     },
     "execution_count": 43,
     "metadata": {},
     "output_type": "execute_result"
    }
   ],
   "source": [
    "training_df = pd.read_csv(dataset_path)\n",
    "training_df.drop(columns=[\"Contributor\"], inplace=True)\n",
    "training_df.head()"
   ]
  },
  {
   "cell_type": "markdown",
   "id": "c54c7a5d",
   "metadata": {},
   "source": [
    "## Few-shot Prompting"
   ]
  },
  {
   "cell_type": "code",
   "execution_count": 44,
   "id": "089a8e82",
   "metadata": {},
   "outputs": [
    {
     "data": {
      "text/plain": [
       "[{'English': 'The patient’s treatment plan includes specific, measurable goals collaboratively developed.',\n",
       "  'Filipino-Correct': 'May malinaw at masukat na goals ang plano ng pasyente na pinlano nila nang magkasama.',\n",
       "  'Filipino-Flawed': 'Gagawa sila ng plano ng pasyente para gumaling.',\n",
       "  'Remarks': 'too casual and didnt mention collaboration',\n",
       "  'Rating': 4},\n",
       " {'English': 'Hah! Get owned!',\n",
       "  'Filipino-Correct': 'Hah! Mukha mo!',\n",
       "  'Filipino-Flawed': 'Hah! Pag-aari!',\n",
       "  'Remarks': 'Mukha mo is an appropriate substitution because it has the same essence  as \"Get owned!\". Both are very childish casual insults typically used in game-settings with the goal of teasing the opponent after beating them.',\n",
       "  'Rating': 5},\n",
       " {'English': \"You got spirit, Red. But this is the real world! The real world is cold! The real world doesn't care about spirit! You wanna be a hero!? Then play the part and die like every other Huntsman in history! As for me, I'll do what I do best: lie, steal, cheat, and SURVIVE!\",\n",
       "  'Filipino-Correct': 'May tapang ka, Red. Pero ito ang totoong mundo! Malupit ang totoong mundo! Walang pakialam ang totoong mundo sa tapang! Gusto mong maging bayani!? Sige, gampanan mo ang papel mo at mamatay ka tulad ng lahat ng Huntsman sa kasaysayan! At para sa akin, gagawin ko kung saan ako pinakamagaling: ang magsinungaling, magnakaw, mandaya, at MANATILING BUHAY!',\n",
       "  'Filipino-Flawed': 'May espiritu ka, Red. Ngunit ito ang totoong mundo! Malamig ang totoong mundo! Ang totoong mundo ay walang pakialam sa espiritu! Gusto mong maging bayani!? Pagkatapos ay i-play ang bahagi at mamatay tulad ng bawat iba pang Huntsman sa kasaysayan! Samantalang ako, gagawin ko ang lahat ng aking makakaya: magsinungaling, magnakaw, mandaya, at SURVIVE!',\n",
       "  'Remarks': 'flawed translates \"cold\" and \"spirit\" incorrectly, spirit =/= espiritu in this context',\n",
       "  'Rating': 4}]"
      ]
     },
     "execution_count": 44,
     "metadata": {},
     "output_type": "execute_result"
    }
   ],
   "source": [
    "examples = training_df.sample(3, random_state=38).to_dict(orient=\"records\")\n",
    "\n",
    "# Adding ratings to few-shot examples for the sake of prompting.\n",
    "examples[0]['Rating'] = 4\n",
    "examples[1]['Rating'] = 5\n",
    "examples[2]['Rating'] = 4\n",
    "\n",
    "examples"
   ]
  },
  {
   "cell_type": "code",
   "execution_count": 45,
   "id": "c590cf63",
   "metadata": {},
   "outputs": [],
   "source": [
    "system_message = \"\"\"\n",
    "You are a professional translation evaluator. Your job is to judge the quality of a Filipino translation of an English sentence.\n",
    "Assess the translation using with the following in mind:\n",
    "- Adequacy: How well does it preserve the original meaning?\n",
    "- Fluency: How natural and grammatically correct is the Filipino?\n",
    "- Lexical Choice: Are the word choices appropriate and accurate?\n",
    "\n",
    "Then: \n",
    "- Rate the translation from a scale of 1 to 5, serving as a combination of all three criteria with 1 being the worst and 5 being the best.\n",
    "- Provide a short explanation or remarks of why you gave that rating.\n",
    "\n",
    "Please format your response like this:\n",
    "English Sentence: ...\n",
    "Filipino Translation: ...\n",
    "Rating: ...\n",
    "Remarks: ...\n",
    "\"\"\"\n",
    "\n",
    "system_prompt = SystemMessagePromptTemplate.from_template(system_message)\n",
    "\n",
    "human_prompt = HumanMessagePromptTemplate.from_template(\n",
    "    \"English Sentence: {english}\\nFilipino Translation: {filipino}\"\n",
    ")\n",
    "\n",
    "ai_prompt = AIMessagePromptTemplate.from_template(\n",
    "    \"Rating: {rating}\\nRemarks: {remarks}\\n\"\n",
    ")"
   ]
  },
  {
   "cell_type": "code",
   "execution_count": 52,
   "id": "59445612",
   "metadata": {},
   "outputs": [],
   "source": [
    "example_prompt = ChatPromptTemplate.from_messages([\n",
    "    human_prompt,\n",
    "    ai_prompt,\n",
    "])\n",
    "\n",
    "few_shot_prompt = FewShotChatMessagePromptTemplate(\n",
    "    examples=[{\n",
    "        \"english\": ex[\"English\"],\n",
    "        \"filipino\": ex[\"Filipino-Correct\"],\n",
    "        \"rating\": ex[\"Rating\"],\n",
    "        \"remarks\": ex[\"Remarks\"],\n",
    "    } for ex in examples],\n",
    "    example_prompt=example_prompt,\n",
    ")\n",
    "\n",
    "final_prompt = ChatPromptTemplate.from_messages([\n",
    "    system_prompt,\n",
    "    few_shot_prompt,\n",
    "    human_prompt\n",
    "])"
   ]
  },
  {
   "cell_type": "code",
   "execution_count": 54,
   "id": "d8659e5a",
   "metadata": {},
   "outputs": [
    {
     "name": "stdout",
     "output_type": "stream",
     "text": [
      "Rating: 3\n",
      "Remarks: The translation is grammatically awkward. A more natural phrasing would be \"Para saan mo gagamitin ang 'wah-wah pedal'?\" or \"Sa ano mo gagamitin ang 'wah-wah pedal'?\"\n"
     ]
    }
   ],
   "source": [
    "messages = final_prompt.format_messages(\n",
    "    english=\"With what would you use a \\\"wah-wah pedal?\\\"\",\n",
    "    filipino=\"Ano ang gagamitin mo ng \\\"wah-wah pedal?\\\"\",\n",
    ")\n",
    "\n",
    "llm = ChatGoogleGenerativeAI(\n",
    "    model=\"gemini-2.0-flash\",\n",
    "    temperature=0,\n",
    "    max_tokens=None,\n",
    "    timeout=None,\n",
    "    max_retries=2,\n",
    ")\n",
    "\n",
    "response = llm.invoke(messages)\n",
    "print(response.content)"
   ]
  },
  {
   "cell_type": "code",
   "execution_count": null,
   "id": "aed352c4",
   "metadata": {},
   "outputs": [],
   "source": []
  }
 ],
 "metadata": {
  "kernelspec": {
   "display_name": "base",
   "language": "python",
   "name": "python3"
  },
  "language_info": {
   "codemirror_mode": {
    "name": "ipython",
    "version": 3
   },
   "file_extension": ".py",
   "mimetype": "text/x-python",
   "name": "python",
   "nbconvert_exporter": "python",
   "pygments_lexer": "ipython3",
   "version": "3.11.4"
  }
 },
 "nbformat": 4,
 "nbformat_minor": 5
}
