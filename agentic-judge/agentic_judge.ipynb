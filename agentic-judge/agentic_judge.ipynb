{
 "cells": [
  {
   "cell_type": "markdown",
   "id": "79c7e37a",
   "metadata": {},
   "source": [
    "# Agentic LLM-as-a-Judge for English-to-Filipino Translations\n",
    "Enrique Lejano & Monica Manlises | CSC420M G01"
   ]
  },
  {
   "cell_type": "markdown",
   "id": "9b162e5a",
   "metadata": {},
   "source": [
    "## Install Dependencies"
   ]
  },
  {
   "cell_type": "code",
   "execution_count": 4,
   "id": "1a65cbf2",
   "metadata": {},
   "outputs": [
    {
     "name": "stdout",
     "output_type": "stream",
     "text": [
      "\n",
      "\u001b[1m[\u001b[0m\u001b[34;49mnotice\u001b[0m\u001b[1;39;49m]\u001b[0m\u001b[39;49m A new release of pip is available: \u001b[0m\u001b[31;49m24.3.1\u001b[0m\u001b[39;49m -> \u001b[0m\u001b[32;49m25.2\u001b[0m\n",
      "\u001b[1m[\u001b[0m\u001b[34;49mnotice\u001b[0m\u001b[1;39;49m]\u001b[0m\u001b[39;49m To update, run: \u001b[0m\u001b[32;49mpython3.10 -m pip install --upgrade pip\u001b[0m\n",
      "Note: you may need to restart the kernel to use updated packages.\n"
     ]
    }
   ],
   "source": [
    "%pip install -U langchain-google-genai python-dotenv langchain-core \"langchain-chroma>=0.1.2\" google-genai chromadb langchain-huggingface langchain-chroma scikit-learn --quiet"
   ]
  },
  {
   "cell_type": "markdown",
   "id": "68ec1860",
   "metadata": {},
   "source": [
    "## Import Libraries and Setup"
   ]
  },
  {
   "cell_type": "code",
   "execution_count": 5,
   "id": "27529c3e",
   "metadata": {},
   "outputs": [
    {
     "data": {
      "text/plain": [
       "True"
      ]
     },
     "execution_count": 5,
     "metadata": {},
     "output_type": "execute_result"
    }
   ],
   "source": [
    "from dotenv import load_dotenv\n",
    "from langchain_google_genai import ChatGoogleGenerativeAI, GoogleGenerativeAIEmbeddings\n",
    "from langchain_core.prompts import PromptTemplate, ChatPromptTemplate, FewShotChatMessagePromptTemplate, AIMessagePromptTemplate, HumanMessagePromptTemplate, SystemMessagePromptTemplate\n",
    "from langchain_core.messages import HumanMessage, AIMessage\n",
    "from langchain_core.example_selectors import SemanticSimilarityExampleSelector\n",
    "from langchain_chroma import Chroma\n",
    "from langchain_core.documents import Document\n",
    "from langchain_core.rate_limiters import InMemoryRateLimiter    \n",
    "from sklearn.metrics import accuracy_score, precision_recall_fscore_support, classification_report\n",
    "from google import genai\n",
    "import chromadb\n",
    "import pandas as pd\n",
    "import numpy as np\n",
    "import re\n",
    "\n",
    "\n",
    "load_dotenv()"
   ]
  },
  {
   "cell_type": "markdown",
   "id": "08735d31",
   "metadata": {},
   "source": [
    "### Rate Limiter\n",
    "To accommodate Gemini Free Tier Plan"
   ]
  },
  {
   "cell_type": "code",
   "execution_count": 2,
   "id": "3787ff8c",
   "metadata": {},
   "outputs": [],
   "source": [
    "rate_limiter = InMemoryRateLimiter(\n",
    "    requests_per_second=0.25,  # 1 request every 4 seconds\n",
    "    check_every_n_seconds=0.1,\n",
    "    max_bucket_size=1.0        # No piling up of surplus tokens\n",
    ")\n",
    "\n",
    "llm = ChatGoogleGenerativeAI(\n",
    "    model=\"gemini-2.0-flash\",\n",
    "    temperature=0,\n",
    "    max_tokens=None,\n",
    "    timeout=None,\n",
    "    max_retries=2,\n",
    "    rate_limiter=rate_limiter\n",
    ")"
   ]
  },
  {
   "cell_type": "markdown",
   "id": "2dd20df2",
   "metadata": {},
   "source": [
    "## Zero-shot Prompting"
   ]
  },
  {
   "cell_type": "code",
   "execution_count": null,
   "id": "f2fc153e",
   "metadata": {},
   "outputs": [],
   "source": [
    "llm = ChatGoogleGenerativeAI(\n",
    "    model=\"gemini-2.0-flash\",\n",
    "    temperature=0,\n",
    "    max_tokens=None,\n",
    "    timeout=None,\n",
    "    max_retries=2,\n",
    ")"
   ]
  },
  {
   "cell_type": "code",
   "execution_count": null,
   "id": "ce85470c",
   "metadata": {},
   "outputs": [],
   "source": [
    "template = \"\"\"\n",
    "You are a professional translation evaluator. Your job is to judge the quality of a Filipino translation of an English sentence.\n",
    "\n",
    "Assess the translation using the following criteria:\n",
    "- **Adequacy (0–100)**: How well does it preserve the original meaning?\n",
    "- **Fluency (0–100)**: How natural and grammatically correct is the Filipino?\n",
    "- **Lexical Choice (0–100)**: Are the word choices appropriate and accurate?\n",
    "\n",
    "Then:\n",
    "- Provide a final verdict: Good or Needs Improvement\n",
    "- Give a short explanation of why.\n",
    "\n",
    "English Sentence:\n",
    "{english}\n",
    "\n",
    "Filipino Translation:\n",
    "{filipino}\n",
    "\n",
    "Please format your response like this:\n",
    "\n",
    "Verdict: ...\n",
    "Adequacy: ...\n",
    "Fluency: ...\n",
    "Lexical Choice: ...\n",
    "Explanation:\n",
    "...\n",
    "\"\"\"\n",
    "\n",
    "prompt = PromptTemplate(\n",
    "    input_variables=[\"english\", \"filipino\"],\n",
    "    template=template\n",
    ")"
   ]
  },
  {
   "cell_type": "code",
   "execution_count": 7,
   "id": "a37c2731",
   "metadata": {},
   "outputs": [],
   "source": [
    "def evaluate_translation(english: str, filipino: str):\n",
    "    formatted_prompt = prompt.format(english=english, filipino=filipino)\n",
    "    response = llm([HumanMessage(content=formatted_prompt)])\n",
    "    return response.content"
   ]
  },
  {
   "cell_type": "code",
   "execution_count": null,
   "id": "bc9e73b9",
   "metadata": {},
   "outputs": [
    {
     "name": "stderr",
     "output_type": "stream",
     "text": [
      "<ipython-input-7-b20f386aeecd>:3: LangChainDeprecationWarning: The method `BaseChatModel.__call__` was deprecated in langchain-core 0.1.7 and will be removed in 1.0. Use :meth:`~invoke` instead.\n",
      "  response = llm([HumanMessage(content=formatted_prompt)])\n"
     ]
    },
    {
     "name": "stdout",
     "output_type": "stream",
     "text": [
      "Verdict: Needs Improvement\n",
      "Adequacy: 85\n",
      "Fluency: 75\n",
      "Lexical Choice: 80\n",
      "\n",
      "Explanation:\n",
      "While the translation captures the core meaning, it could be improved in terms of fluency and lexical choice.\n",
      "\n",
      "*   **Adequacy:** The translation conveys the essential meaning of ensuring compliance.\n",
      "*   **Fluency:** The sentence structure is slightly awkward. A more natural phrasing might be \"Pakisiguro na ang sistema ay sumusunod sa mga bagong patakaran.\" The use of \"ay\" after \"sistema\" is grammatically correct but can sound less fluent in modern Filipino.\n",
      "*   **Lexical Choice:** \"Patakaran\" is generally correct for \"policy,\" but \"mga bagong patakaran\" (plural) would be more accurate since \"policies\" is plural in the original English sentence. Also, \"sumunod\" is a good choice for \"compliant,\" but \"tumalima\" could also be considered for a more formal tone.\n"
     ]
    }
   ],
   "source": [
    "eng = \"Please ensure the system is compliant with the new policies.\"b\n",
    "flawed_tl = \"Siguraduhin ang sistema ay sumunod sa bagong patakaran.\"\n",
    "\n",
    "result = evaluate_translation(eng, flawed_tl)\n",
    "print(result)"
   ]
  },
  {
   "cell_type": "markdown",
   "id": "827f87fb",
   "metadata": {},
   "source": [
    "## Load Dataset and Data Preprocessing"
   ]
  },
  {
   "cell_type": "code",
   "execution_count": 6,
   "id": "c53931ae",
   "metadata": {},
   "outputs": [],
   "source": [
    "training_set = \"../datasets/training.csv\"\n",
    "test_set = \"../datasets/test.csv\""
   ]
  },
  {
   "cell_type": "markdown",
   "id": "cd5a9239",
   "metadata": {},
   "source": [
    "### Training Set"
   ]
  },
  {
   "cell_type": "code",
   "execution_count": 7,
   "id": "959971d6",
   "metadata": {},
   "outputs": [
    {
     "data": {
      "application/vnd.microsoft.datawrangler.viewer.v0+json": {
       "columns": [
        {
         "name": "index",
         "rawType": "int64",
         "type": "integer"
        },
        {
         "name": "English",
         "rawType": "object",
         "type": "string"
        },
        {
         "name": "Filipino-Correct",
         "rawType": "object",
         "type": "string"
        },
        {
         "name": "Filipino-Flawed",
         "rawType": "object",
         "type": "string"
        },
        {
         "name": "Remarks",
         "rawType": "object",
         "type": "unknown"
        }
       ],
       "ref": "0555b0ac-de7a-4fae-a0ce-beca5b3f6f0e",
       "rows": [
        [
         "0",
         "The Philippines is an archipelago made up of over 7,640 islands, though only about 2,000 are inhabited.",
         "Ang Pilipinas ay isang kapulaang binubuo ng 7,640 na isla, ngunit 2,000 lamang ang tinitirahan",
         "Ang Pilipinas ay isang puno na binubuo ng mahigit 7,640 manok, bagaman halos 2,000 lamang ang tumira.",
         null
        ],
        [
         "1",
         "Philippines is the world's second-largest archipelago.",
         "Ang Pilipinas ang pangalawa sa pinakamalaking kapuluan sa mundo",
         "Ang Pilipinas ay ang pangalawang malaking isla sa asya",
         null
        ],
        [
         "2",
         "Filipino and English are the two official languages of the Philippines.",
         "Filipino at Ingles ang dalawang opisyal na lingwahe ng Pilipinas",
         "Tagalog at Ingles ang dalawa opisyal lingwahe ng mga Pilipinas",
         null
        ],
        [
         "3",
         "Tagalog is the most widely spoken native language and forms the basis of Filipino.",
         "Tagalog ang pinakamalawak at ginagamit na katutubong wika at naging batayan ng Filipino",
         "Tagalog ay ang pinaka malawak sinasabi katutubo lingwahe at mga porma ng batayan ng Filipino",
         null
        ],
        [
         "4",
         "The Philippines was a Spanish colony for over 300 years.",
         "Ang Pilipinas ay naging isang kolonya ng Espanya ng mahigit 300 na taon",
         "Pilipinas naging Espanya Kolonya sa higit 300 na araw",
         null
        ]
       ],
       "shape": {
        "columns": 4,
        "rows": 5
       }
      },
      "text/html": [
       "<div>\n",
       "<style scoped>\n",
       "    .dataframe tbody tr th:only-of-type {\n",
       "        vertical-align: middle;\n",
       "    }\n",
       "\n",
       "    .dataframe tbody tr th {\n",
       "        vertical-align: top;\n",
       "    }\n",
       "\n",
       "    .dataframe thead th {\n",
       "        text-align: right;\n",
       "    }\n",
       "</style>\n",
       "<table border=\"1\" class=\"dataframe\">\n",
       "  <thead>\n",
       "    <tr style=\"text-align: right;\">\n",
       "      <th></th>\n",
       "      <th>English</th>\n",
       "      <th>Filipino-Correct</th>\n",
       "      <th>Filipino-Flawed</th>\n",
       "      <th>Remarks</th>\n",
       "    </tr>\n",
       "  </thead>\n",
       "  <tbody>\n",
       "    <tr>\n",
       "      <th>0</th>\n",
       "      <td>The Philippines is an archipelago made up of o...</td>\n",
       "      <td>Ang Pilipinas ay isang kapulaang binubuo ng 7,...</td>\n",
       "      <td>Ang Pilipinas ay isang puno na binubuo ng mahi...</td>\n",
       "      <td>NaN</td>\n",
       "    </tr>\n",
       "    <tr>\n",
       "      <th>1</th>\n",
       "      <td>Philippines is the world's second-largest arch...</td>\n",
       "      <td>Ang Pilipinas ang pangalawa sa pinakamalaking ...</td>\n",
       "      <td>Ang Pilipinas ay ang pangalawang malaking isla...</td>\n",
       "      <td>NaN</td>\n",
       "    </tr>\n",
       "    <tr>\n",
       "      <th>2</th>\n",
       "      <td>Filipino and English are the two official lang...</td>\n",
       "      <td>Filipino at Ingles ang dalawang opisyal na lin...</td>\n",
       "      <td>Tagalog at Ingles ang dalawa opisyal lingwahe ...</td>\n",
       "      <td>NaN</td>\n",
       "    </tr>\n",
       "    <tr>\n",
       "      <th>3</th>\n",
       "      <td>Tagalog is the most widely spoken native langu...</td>\n",
       "      <td>Tagalog ang pinakamalawak at ginagamit na katu...</td>\n",
       "      <td>Tagalog ay ang pinaka malawak sinasabi katutub...</td>\n",
       "      <td>NaN</td>\n",
       "    </tr>\n",
       "    <tr>\n",
       "      <th>4</th>\n",
       "      <td>The Philippines was a Spanish colony for over ...</td>\n",
       "      <td>Ang Pilipinas ay naging isang kolonya ng Espan...</td>\n",
       "      <td>Pilipinas naging Espanya Kolonya sa higit 300 ...</td>\n",
       "      <td>NaN</td>\n",
       "    </tr>\n",
       "  </tbody>\n",
       "</table>\n",
       "</div>"
      ],
      "text/plain": [
       "                                             English  \\\n",
       "0  The Philippines is an archipelago made up of o...   \n",
       "1  Philippines is the world's second-largest arch...   \n",
       "2  Filipino and English are the two official lang...   \n",
       "3  Tagalog is the most widely spoken native langu...   \n",
       "4  The Philippines was a Spanish colony for over ...   \n",
       "\n",
       "                                    Filipino-Correct  \\\n",
       "0  Ang Pilipinas ay isang kapulaang binubuo ng 7,...   \n",
       "1  Ang Pilipinas ang pangalawa sa pinakamalaking ...   \n",
       "2  Filipino at Ingles ang dalawang opisyal na lin...   \n",
       "3  Tagalog ang pinakamalawak at ginagamit na katu...   \n",
       "4  Ang Pilipinas ay naging isang kolonya ng Espan...   \n",
       "\n",
       "                                     Filipino-Flawed Remarks  \n",
       "0  Ang Pilipinas ay isang puno na binubuo ng mahi...     NaN  \n",
       "1  Ang Pilipinas ay ang pangalawang malaking isla...     NaN  \n",
       "2  Tagalog at Ingles ang dalawa opisyal lingwahe ...     NaN  \n",
       "3  Tagalog ay ang pinaka malawak sinasabi katutub...     NaN  \n",
       "4  Pilipinas naging Espanya Kolonya sa higit 300 ...     NaN  "
      ]
     },
     "execution_count": 7,
     "metadata": {},
     "output_type": "execute_result"
    }
   ],
   "source": [
    "training_df = pd.read_csv(training_set).dropna(how='all')\n",
    "training_df.drop(columns=[\"Contributor\"], inplace=True)\n",
    "training_df.head()"
   ]
  },
  {
   "cell_type": "code",
   "execution_count": 8,
   "id": "1bc28db7",
   "metadata": {},
   "outputs": [
    {
     "name": "stdout",
     "output_type": "stream",
     "text": [
      "<class 'pandas.core.frame.DataFrame'>\n",
      "Index: 561 entries, 0 to 562\n",
      "Data columns (total 4 columns):\n",
      " #   Column            Non-Null Count  Dtype \n",
      "---  ------            --------------  ----- \n",
      " 0   English           561 non-null    object\n",
      " 1   Filipino-Correct  561 non-null    object\n",
      " 2   Filipino-Flawed   561 non-null    object\n",
      " 3   Remarks           332 non-null    object\n",
      "dtypes: object(4)\n",
      "memory usage: 21.9+ KB\n"
     ]
    }
   ],
   "source": [
    "training_df.info()"
   ]
  },
  {
   "cell_type": "markdown",
   "id": "0fbcc442",
   "metadata": {},
   "source": [
    "### Test Set"
   ]
  },
  {
   "cell_type": "code",
   "execution_count": 9,
   "id": "9281e203",
   "metadata": {},
   "outputs": [
    {
     "name": "stdout",
     "output_type": "stream",
     "text": [
      "<class 'pandas.core.frame.DataFrame'>\n",
      "Index: 57 entries, 0 to 63\n",
      "Data columns (total 5 columns):\n",
      " #   Column                                                          Non-Null Count  Dtype  \n",
      "---  ------                                                          --------------  -----  \n",
      " 0   Source Text (English)                                           57 non-null     object \n",
      " 1   Target Text (Filipino)                                          57 non-null     object \n",
      " 2   Final Score                          (1 - lowest, 5 - highest)  57 non-null     float64\n",
      " 3   Rater 1 Explanation                                             57 non-null     object \n",
      " 4   Rater 2 Explanation                                             54 non-null     object \n",
      "dtypes: float64(1), object(4)\n",
      "memory usage: 2.7+ KB\n"
     ]
    }
   ],
   "source": [
    "test_df = pd.read_csv(test_set).dropna(how='all')\n",
    "test_df.drop(columns=[\"Contributor\"], inplace=True)\n",
    "test_df.info()"
   ]
  },
  {
   "cell_type": "code",
   "execution_count": 7,
   "id": "f1cf0e69",
   "metadata": {},
   "outputs": [
    {
     "data": {
      "application/vnd.microsoft.datawrangler.viewer.v0+json": {
       "columns": [
        {
         "name": "index",
         "rawType": "int64",
         "type": "integer"
        },
        {
         "name": "English",
         "rawType": "object",
         "type": "string"
        },
        {
         "name": "Filipino",
         "rawType": "object",
         "type": "string"
        },
        {
         "name": "Rating",
         "rawType": "float64",
         "type": "float"
        },
        {
         "name": "Remarks 1",
         "rawType": "object",
         "type": "string"
        },
        {
         "name": "Remarks 2",
         "rawType": "object",
         "type": "unknown"
        }
       ],
       "ref": "a3b69c1b-ed97-42f9-9d45-b7c86ca717a3",
       "rows": [
        [
         "0",
         "The children laughed and played under the afternoon sun.",
         "Ang mga bata ay nagtawanan at naglaro sa ilalim ng hapon na araw.",
         "4.0",
         "Accurate, fluent, and natural translation. Captures the tone and meaning well.",
         "Just slight error due to the literal translation of the \"afternoon sun\" to \"hapon na araw\". Afternoon sun means the Sun during the afternoon"
        ],
        [
         "1",
         "She took a break to gather her thoughts.",
         "Nagpahinga siya para mag-isip-isip.",
         "4.0",
         "The translation is accurate. It was able to capture the meaning of the idiom \"gather her thoughts\", instead of translating it literally to \"kumuha ng ideya\"",
         "The translation would have been better if the translation also captured the gender indicated by the pronoun."
        ],
        [
         "2",
         "The algorithm efficiently identifies patterns in large datasets.",
         "Mabisang kinikilala ng algoritmo ang mga pattern sa malalaking dataset.",
         "3.0",
         "The translation of \"identifies\" as \"kinikilala\" in the context of the sentence is not very accurate. The source text was translated literally.",
         "The translation would have been better if the model didn't translated very literally."
        ],
        [
         "3",
         "Data normalization helps improve model performance.",
         "Tumutulong sa pagpabuti ng model ang normalisasyon ng datos",
         "5.0",
         "The translated text is natural and captures the entire essence of the source text",
         "The translation didn't literally translated the text, and the model was able to capture the relationship between data normalization and model performance."
        ],
        [
         "4",
         "alam mo ma'am masaya naman topics natin sa philosophy inaantok lang talaga ko kasi ikaw nagdidiscuss",
         "You know, ma'am, we have a lot of fun philosophy topics. I'm just really sleepy in what you're discussing.",
         "4.0",
         "flawed translation is close, but failed to translate that the cause of antok is the ma'am and not the topic.",
         null
        ]
       ],
       "shape": {
        "columns": 5,
        "rows": 5
       }
      },
      "text/html": [
       "<div>\n",
       "<style scoped>\n",
       "    .dataframe tbody tr th:only-of-type {\n",
       "        vertical-align: middle;\n",
       "    }\n",
       "\n",
       "    .dataframe tbody tr th {\n",
       "        vertical-align: top;\n",
       "    }\n",
       "\n",
       "    .dataframe thead th {\n",
       "        text-align: right;\n",
       "    }\n",
       "</style>\n",
       "<table border=\"1\" class=\"dataframe\">\n",
       "  <thead>\n",
       "    <tr style=\"text-align: right;\">\n",
       "      <th></th>\n",
       "      <th>English</th>\n",
       "      <th>Filipino</th>\n",
       "      <th>Rating</th>\n",
       "      <th>Remarks 1</th>\n",
       "      <th>Remarks 2</th>\n",
       "    </tr>\n",
       "  </thead>\n",
       "  <tbody>\n",
       "    <tr>\n",
       "      <th>0</th>\n",
       "      <td>The children laughed and played under the afte...</td>\n",
       "      <td>Ang mga bata ay nagtawanan at naglaro sa ilali...</td>\n",
       "      <td>4.0</td>\n",
       "      <td>Accurate, fluent, and natural translation. Cap...</td>\n",
       "      <td>Just slight error due to the literal translati...</td>\n",
       "    </tr>\n",
       "    <tr>\n",
       "      <th>1</th>\n",
       "      <td>She took a break to gather her thoughts.</td>\n",
       "      <td>Nagpahinga siya para mag-isip-isip.</td>\n",
       "      <td>4.0</td>\n",
       "      <td>The translation is accurate. It was able to ca...</td>\n",
       "      <td>The translation would have been better if the ...</td>\n",
       "    </tr>\n",
       "    <tr>\n",
       "      <th>2</th>\n",
       "      <td>The algorithm efficiently identifies patterns ...</td>\n",
       "      <td>Mabisang kinikilala ng algoritmo ang mga patte...</td>\n",
       "      <td>3.0</td>\n",
       "      <td>The translation of \"identifies\" as \"kinikilala...</td>\n",
       "      <td>The translation would have been better if the ...</td>\n",
       "    </tr>\n",
       "    <tr>\n",
       "      <th>3</th>\n",
       "      <td>Data normalization helps improve model perform...</td>\n",
       "      <td>Tumutulong sa pagpabuti ng model ang normalisa...</td>\n",
       "      <td>5.0</td>\n",
       "      <td>The translated text is natural and captures th...</td>\n",
       "      <td>The translation didn't literally translated th...</td>\n",
       "    </tr>\n",
       "    <tr>\n",
       "      <th>4</th>\n",
       "      <td>alam mo ma'am masaya naman topics natin sa phi...</td>\n",
       "      <td>You know, ma'am, we have a lot of fun philosop...</td>\n",
       "      <td>4.0</td>\n",
       "      <td>flawed translation is close, but failed to tra...</td>\n",
       "      <td>NaN</td>\n",
       "    </tr>\n",
       "  </tbody>\n",
       "</table>\n",
       "</div>"
      ],
      "text/plain": [
       "                                             English  \\\n",
       "0  The children laughed and played under the afte...   \n",
       "1           She took a break to gather her thoughts.   \n",
       "2  The algorithm efficiently identifies patterns ...   \n",
       "3  Data normalization helps improve model perform...   \n",
       "4  alam mo ma'am masaya naman topics natin sa phi...   \n",
       "\n",
       "                                            Filipino  Rating  \\\n",
       "0  Ang mga bata ay nagtawanan at naglaro sa ilali...     4.0   \n",
       "1                Nagpahinga siya para mag-isip-isip.     4.0   \n",
       "2  Mabisang kinikilala ng algoritmo ang mga patte...     3.0   \n",
       "3  Tumutulong sa pagpabuti ng model ang normalisa...     5.0   \n",
       "4  You know, ma'am, we have a lot of fun philosop...     4.0   \n",
       "\n",
       "                                           Remarks 1  \\\n",
       "0  Accurate, fluent, and natural translation. Cap...   \n",
       "1  The translation is accurate. It was able to ca...   \n",
       "2  The translation of \"identifies\" as \"kinikilala...   \n",
       "3  The translated text is natural and captures th...   \n",
       "4  flawed translation is close, but failed to tra...   \n",
       "\n",
       "                                           Remarks 2  \n",
       "0  Just slight error due to the literal translati...  \n",
       "1  The translation would have been better if the ...  \n",
       "2  The translation would have been better if the ...  \n",
       "3  The translation didn't literally translated th...  \n",
       "4                                                NaN  "
      ]
     },
     "execution_count": 7,
     "metadata": {},
     "output_type": "execute_result"
    }
   ],
   "source": [
    "test_df.rename(columns={\n",
    "    \"Source Text (English)\": \"English\",\n",
    "    \"Target Text (Filipino)\": \"Filipino\",\n",
    "    \"Final Score                          (1 - lowest, 5 - highest)\": \"Rating\",\n",
    "    \"Rater 1 Explanation\": \"Remarks 1\",\n",
    "    \"Rater 2 Explanation\": \"Remarks 2\"\n",
    "}, inplace=True)\n",
    "\n",
    "test_df.head()"
   ]
  },
  {
   "cell_type": "markdown",
   "id": "c54c7a5d",
   "metadata": {},
   "source": [
    "## Few-shot Prompting"
   ]
  },
  {
   "cell_type": "code",
   "execution_count": 10,
   "id": "089a8e82",
   "metadata": {},
   "outputs": [
    {
     "data": {
      "text/plain": [
       "[{'English': 'Dinagyang culminates in a competition of tribes dancing with drums.',\n",
       "  'Filipino-Correct': 'Nagtatapos ang Dinagyang sa paligsahan ng mga tribo na sumasayaw kasabay ng mga tambol.',\n",
       "  'Filipino-Flawed': '… sa isang patimpalak ng mga tribo na kumakanta ng kundiman.',\n",
       "  'Remarks': 'Replaces drum dance with singing—a meaning swap.',\n",
       "  'Rating': 4},\n",
       " {'English': 'James is eating strawberries in Baguio.',\n",
       "  'Filipino-Correct': 'Kumakain si James ng strawberries sa Baguio.',\n",
       "  'Filipino-Flawed': 'Si James ay kumakain ng strawberries sa lugar ng Baguio.',\n",
       "  'Remarks': 'ay inversion, unnecessary addition of \"sa lugar ng\"',\n",
       "  'Rating': 5},\n",
       " {'English': \"Big O notation describes the upper bound of an algorithm's growth.\",\n",
       "  'Filipino-Correct': 'Inilalarawan ng Big O notation ang pinakamataas na paglaki ng isang algoritmo.',\n",
       "  'Filipino-Flawed': 'Big O ay laki ng algo.',\n",
       "  'Remarks': nan,\n",
       "  'Rating': 4}]"
      ]
     },
     "execution_count": 10,
     "metadata": {},
     "output_type": "execute_result"
    }
   ],
   "source": [
    "examples = training_df.sample(3, random_state=38).to_dict(orient=\"records\")\n",
    "\n",
    "# Adding ratings to few-shot examples for the sake of prompting.\n",
    "examples[0]['Rating'] = 4\n",
    "examples[1]['Rating'] = 5\n",
    "examples[2]['Rating'] = 4\n",
    "\n",
    "examples"
   ]
  },
  {
   "cell_type": "code",
   "execution_count": 17,
   "id": "c590cf63",
   "metadata": {},
   "outputs": [],
   "source": [
    "system_message = \"\"\"\n",
    "You are a professional translation evaluator. Your job is to judge the quality of a Filipino translation of an English sentence.\n",
    "Assess the translation using with the following in mind:\n",
    "- Adequacy: How well does it preserve the original meaning?\n",
    "- Fluency: How natural and grammatically correct is the Filipino?\n",
    "- Lexical Choice: Are the word choices appropriate and accurate?\n",
    "\n",
    "Then: \n",
    "- Rate the translation from a scale of 1 to 5, serving as a combination of all three criteria with 1 being the worst and 5 being the best.\n",
    "- Provide a short explanation or remarks of why you gave that rating.\n",
    "\n",
    "Please format your response like this:\n",
    "English Sentence: ...\n",
    "Filipino Translation: ...\n",
    "Rating: ...\n",
    "Remarks: ...\n",
    "\"\"\"\n",
    "\n",
    "system_prompt = SystemMessagePromptTemplate.from_template(system_message)\n",
    "\n",
    "human_prompt = HumanMessagePromptTemplate.from_template(\n",
    "    \"English Sentence: {english}\\nFilipino Translation: {filipino}\"\n",
    ")\n",
    "\n",
    "ai_prompt = AIMessagePromptTemplate.from_template(\n",
    "    \"Rating: {rating}\\nRemarks: {remarks}\\n\"\n",
    ")"
   ]
  },
  {
   "cell_type": "code",
   "execution_count": 18,
   "id": "59445612",
   "metadata": {},
   "outputs": [],
   "source": [
    "example_prompt = ChatPromptTemplate.from_messages([\n",
    "    human_prompt,\n",
    "    ai_prompt,\n",
    "])\n",
    "\n",
    "few_shot_prompt = FewShotChatMessagePromptTemplate(\n",
    "    examples=[{\n",
    "        \"english\": ex[\"English\"],\n",
    "        \"filipino\": ex[\"Filipino-Correct\"],\n",
    "        \"rating\": ex[\"Rating\"],\n",
    "        \"remarks\": ex[\"Remarks\"],\n",
    "    } for ex in examples],\n",
    "    example_prompt=example_prompt,\n",
    ")\n",
    "\n",
    "final_prompt = ChatPromptTemplate.from_messages([\n",
    "    system_prompt,\n",
    "    few_shot_prompt,\n",
    "    human_prompt\n",
    "])"
   ]
  },
  {
   "cell_type": "markdown",
   "id": "321e94d2",
   "metadata": {},
   "source": [
    "### Single Input-Output Prompt"
   ]
  },
  {
   "cell_type": "code",
   "execution_count": 54,
   "id": "d8659e5a",
   "metadata": {},
   "outputs": [
    {
     "name": "stdout",
     "output_type": "stream",
     "text": [
      "Rating: 3\n",
      "Remarks: The translation is grammatically awkward. A more natural phrasing would be \"Para saan mo gagamitin ang 'wah-wah pedal'?\" or \"Sa ano mo gagamitin ang 'wah-wah pedal'?\"\n"
     ]
    }
   ],
   "source": [
    "messages = final_prompt.format_messages(\n",
    "    english=\"With what would you use a \\\"wah-wah pedal?\\\"\",\n",
    "    filipino=\"Ano ang gagamitin mo ng \\\"wah-wah pedal?\\\"\",\n",
    ")\n",
    "\n",
    "llm = ChatGoogleGenerativeAI(\n",
    "    model=\"gemini-2.0-flash\",\n",
    "    temperature=0,\n",
    "    max_tokens=None,\n",
    "    timeout=None,\n",
    "    max_retries=2,\n",
    ")\n",
    "\n",
    "response = llm.invoke(messages)\n",
    "print(response.content)"
   ]
  },
  {
   "cell_type": "markdown",
   "id": "8db92ee3",
   "metadata": {},
   "source": [
    "Static few-shot learning examples for entire test set."
   ]
  },
  {
   "cell_type": "code",
   "execution_count": 20,
   "id": "2f405477",
   "metadata": {},
   "outputs": [],
   "source": [
    "def evaluate_rating(llm_func, prompt_obj, english: str, filipino: str) -> str:\n",
    "    messages = prompt_obj.format_messages(english=english, filipino=filipino)\n",
    "    resp = llm_func.invoke(messages)\n",
    "    return resp.content\n",
    "\n",
    "test_df['pred_raw'] = test_df.apply(\n",
    "    lambda r: evaluate_rating(llm, final_prompt, r['English'], r['Filipino']),\n",
    "    axis=1,\n",
    ")"
   ]
  },
  {
   "cell_type": "markdown",
   "id": "c4602fac",
   "metadata": {},
   "source": [
    "Extract the numeric Rating from each LLM response"
   ]
  },
  {
   "cell_type": "code",
   "execution_count": 24,
   "id": "d183c6d8",
   "metadata": {},
   "outputs": [
    {
     "data": {
      "application/vnd.microsoft.datawrangler.viewer.v0+json": {
       "columns": [
        {
         "name": "index",
         "rawType": "int64",
         "type": "integer"
        },
        {
         "name": "English",
         "rawType": "object",
         "type": "string"
        },
        {
         "name": "Filipino",
         "rawType": "object",
         "type": "string"
        },
        {
         "name": "Rating",
         "rawType": "float64",
         "type": "float"
        },
        {
         "name": "Remarks 1",
         "rawType": "object",
         "type": "string"
        },
        {
         "name": "Remarks 2",
         "rawType": "object",
         "type": "unknown"
        },
        {
         "name": "pred_raw",
         "rawType": "object",
         "type": "string"
        },
        {
         "name": "pred_rating",
         "rawType": "int64",
         "type": "integer"
        }
       ],
       "ref": "9931a8c0-ec60-4a9a-9101-8401d1676a32",
       "rows": [
        [
         "0",
         "The children laughed and played under the afternoon sun.",
         "Ang mga bata ay nagtawanan at naglaro sa ilalim ng hapon na araw.",
         "4.0",
         "Accurate, fluent, and natural translation. Captures the tone and meaning well.",
         "Just slight error due to the literal translation of the \"afternoon sun\" to \"hapon na araw\". Afternoon sun means the Sun during the afternoon",
         "Rating: 5\nRemarks: The translation is accurate, fluent, and uses appropriate lexical choices. The sentence structure is natural in Filipino.",
         "5"
        ],
        [
         "1",
         "She took a break to gather her thoughts.",
         "Nagpahinga siya para mag-isip-isip.",
         "4.0",
         "The translation is accurate. It was able to capture the meaning of the idiom \"gather her thoughts\", instead of translating it literally to \"kumuha ng ideya\"",
         "The translation would have been better if the translation also captured the gender indicated by the pronoun.",
         "Rating: 5\nRemarks: The translation is accurate, fluent, and uses appropriate lexical choices. \"Mag-isip-isip\" effectively captures the nuance of \"gather her thoughts.\"",
         "5"
        ],
        [
         "2",
         "The algorithm efficiently identifies patterns in large datasets.",
         "Mabisang kinikilala ng algoritmo ang mga pattern sa malalaking dataset.",
         "3.0",
         "The translation of \"identifies\" as \"kinikilala\" in the context of the sentence is not very accurate. The source text was translated literally.",
         "The translation would have been better if the model didn't translated very literally.",
         "Rating: 5\nRemarks: The translation is accurate, fluent, and uses appropriate lexical choices. The word order is natural in Filipino, and the meaning is preserved.",
         "5"
        ],
        [
         "3",
         "Data normalization helps improve model performance.",
         "Tumutulong sa pagpabuti ng model ang normalisasyon ng datos",
         "5.0",
         "The translated text is natural and captures the entire essence of the source text",
         "The translation didn't literally translated the text, and the model was able to capture the relationship between data normalization and model performance.",
         "Rating: 5\nRemarks: The translation is accurate, fluent, and uses appropriate lexical choices. The word order is natural in Filipino.",
         "5"
        ],
        [
         "4",
         "alam mo ma'am masaya naman topics natin sa philosophy inaantok lang talaga ko kasi ikaw nagdidiscuss",
         "You know, ma'am, we have a lot of fun philosophy topics. I'm just really sleepy in what you're discussing.",
         "4.0",
         "flawed translation is close, but failed to translate that the cause of antok is the ma'am and not the topic.",
         null,
         "Rating: 5\nRemarks: The translation accurately captures the meaning and tone of the original Filipino sentence. The English is natural and grammatically correct.",
         "5"
        ]
       ],
       "shape": {
        "columns": 7,
        "rows": 5
       }
      },
      "text/html": [
       "<div>\n",
       "<style scoped>\n",
       "    .dataframe tbody tr th:only-of-type {\n",
       "        vertical-align: middle;\n",
       "    }\n",
       "\n",
       "    .dataframe tbody tr th {\n",
       "        vertical-align: top;\n",
       "    }\n",
       "\n",
       "    .dataframe thead th {\n",
       "        text-align: right;\n",
       "    }\n",
       "</style>\n",
       "<table border=\"1\" class=\"dataframe\">\n",
       "  <thead>\n",
       "    <tr style=\"text-align: right;\">\n",
       "      <th></th>\n",
       "      <th>English</th>\n",
       "      <th>Filipino</th>\n",
       "      <th>Rating</th>\n",
       "      <th>Remarks 1</th>\n",
       "      <th>Remarks 2</th>\n",
       "      <th>pred_raw</th>\n",
       "      <th>pred_rating</th>\n",
       "    </tr>\n",
       "  </thead>\n",
       "  <tbody>\n",
       "    <tr>\n",
       "      <th>0</th>\n",
       "      <td>The children laughed and played under the afte...</td>\n",
       "      <td>Ang mga bata ay nagtawanan at naglaro sa ilali...</td>\n",
       "      <td>4.0</td>\n",
       "      <td>Accurate, fluent, and natural translation. Cap...</td>\n",
       "      <td>Just slight error due to the literal translati...</td>\n",
       "      <td>Rating: 5\\nRemarks: The translation is accurat...</td>\n",
       "      <td>5</td>\n",
       "    </tr>\n",
       "    <tr>\n",
       "      <th>1</th>\n",
       "      <td>She took a break to gather her thoughts.</td>\n",
       "      <td>Nagpahinga siya para mag-isip-isip.</td>\n",
       "      <td>4.0</td>\n",
       "      <td>The translation is accurate. It was able to ca...</td>\n",
       "      <td>The translation would have been better if the ...</td>\n",
       "      <td>Rating: 5\\nRemarks: The translation is accurat...</td>\n",
       "      <td>5</td>\n",
       "    </tr>\n",
       "    <tr>\n",
       "      <th>2</th>\n",
       "      <td>The algorithm efficiently identifies patterns ...</td>\n",
       "      <td>Mabisang kinikilala ng algoritmo ang mga patte...</td>\n",
       "      <td>3.0</td>\n",
       "      <td>The translation of \"identifies\" as \"kinikilala...</td>\n",
       "      <td>The translation would have been better if the ...</td>\n",
       "      <td>Rating: 5\\nRemarks: The translation is accurat...</td>\n",
       "      <td>5</td>\n",
       "    </tr>\n",
       "    <tr>\n",
       "      <th>3</th>\n",
       "      <td>Data normalization helps improve model perform...</td>\n",
       "      <td>Tumutulong sa pagpabuti ng model ang normalisa...</td>\n",
       "      <td>5.0</td>\n",
       "      <td>The translated text is natural and captures th...</td>\n",
       "      <td>The translation didn't literally translated th...</td>\n",
       "      <td>Rating: 5\\nRemarks: The translation is accurat...</td>\n",
       "      <td>5</td>\n",
       "    </tr>\n",
       "    <tr>\n",
       "      <th>4</th>\n",
       "      <td>alam mo ma'am masaya naman topics natin sa phi...</td>\n",
       "      <td>You know, ma'am, we have a lot of fun philosop...</td>\n",
       "      <td>4.0</td>\n",
       "      <td>flawed translation is close, but failed to tra...</td>\n",
       "      <td>NaN</td>\n",
       "      <td>Rating: 5\\nRemarks: The translation accurately...</td>\n",
       "      <td>5</td>\n",
       "    </tr>\n",
       "  </tbody>\n",
       "</table>\n",
       "</div>"
      ],
      "text/plain": [
       "                                             English  \\\n",
       "0  The children laughed and played under the afte...   \n",
       "1           She took a break to gather her thoughts.   \n",
       "2  The algorithm efficiently identifies patterns ...   \n",
       "3  Data normalization helps improve model perform...   \n",
       "4  alam mo ma'am masaya naman topics natin sa phi...   \n",
       "\n",
       "                                            Filipino  Rating  \\\n",
       "0  Ang mga bata ay nagtawanan at naglaro sa ilali...     4.0   \n",
       "1                Nagpahinga siya para mag-isip-isip.     4.0   \n",
       "2  Mabisang kinikilala ng algoritmo ang mga patte...     3.0   \n",
       "3  Tumutulong sa pagpabuti ng model ang normalisa...     5.0   \n",
       "4  You know, ma'am, we have a lot of fun philosop...     4.0   \n",
       "\n",
       "                                           Remarks 1  \\\n",
       "0  Accurate, fluent, and natural translation. Cap...   \n",
       "1  The translation is accurate. It was able to ca...   \n",
       "2  The translation of \"identifies\" as \"kinikilala...   \n",
       "3  The translated text is natural and captures th...   \n",
       "4  flawed translation is close, but failed to tra...   \n",
       "\n",
       "                                           Remarks 2  \\\n",
       "0  Just slight error due to the literal translati...   \n",
       "1  The translation would have been better if the ...   \n",
       "2  The translation would have been better if the ...   \n",
       "3  The translation didn't literally translated th...   \n",
       "4                                                NaN   \n",
       "\n",
       "                                            pred_raw  pred_rating  \n",
       "0  Rating: 5\\nRemarks: The translation is accurat...            5  \n",
       "1  Rating: 5\\nRemarks: The translation is accurat...            5  \n",
       "2  Rating: 5\\nRemarks: The translation is accurat...            5  \n",
       "3  Rating: 5\\nRemarks: The translation is accurat...            5  \n",
       "4  Rating: 5\\nRemarks: The translation accurately...            5  "
      ]
     },
     "execution_count": 24,
     "metadata": {},
     "output_type": "execute_result"
    }
   ],
   "source": [
    "def parse_rating(text):\n",
    "    m = re.search(r\"Rating:\\s*([1-5])\", text)\n",
    "    return int(m.group(1)) if m else None\n",
    "\n",
    "test_df['pred_rating'] = test_df['pred_raw'].apply(parse_rating)\n",
    "\n",
    "test_df.to_csv(\"../results/few_shot_ratings.csv\", index=False)\n",
    "test_df.head()"
   ]
  },
  {
   "cell_type": "markdown",
   "id": "1c0f6038",
   "metadata": {},
   "source": [
    "Compare human rating versus LLM rating"
   ]
  },
  {
   "cell_type": "code",
   "execution_count": 22,
   "id": "9c2df735",
   "metadata": {},
   "outputs": [
    {
     "name": "stdout",
     "output_type": "stream",
     "text": [
      "Accuracy: 0.263\n",
      "Macro Precision: 0.255\n",
      "Macro Recall: 0.250\n",
      "Macro F1-score: 0.166\n",
      "\n",
      "Detailed per-rating breakdown:\n",
      "\n",
      "              precision    recall  f1-score   support\n",
      "\n",
      "         1.0       1.00      0.25      0.40         4\n",
      "         2.0       0.00      0.00      0.00        10\n",
      "         3.0       0.00      0.00      0.00        15\n",
      "         4.0       0.00      0.00      0.00        14\n",
      "         5.0       0.27      1.00      0.43        14\n",
      "\n",
      "    accuracy                           0.26        57\n",
      "   macro avg       0.25      0.25      0.17        57\n",
      "weighted avg       0.14      0.26      0.13        57\n",
      "\n"
     ]
    }
   ],
   "source": [
    "y_true = test_df['Rating'].tolist()\n",
    "y_pred = test_df['pred_rating'].tolist()\n",
    "\n",
    "acc = accuracy_score(y_true, y_pred)\n",
    "prec, rec, f1, support = precision_recall_fscore_support(\n",
    "    y_true, y_pred, average='macro', zero_division=0\n",
    ")\n",
    "\n",
    "print(f\"Accuracy: {acc:.3f}\")\n",
    "print(f\"Macro Precision: {prec:.3f}\")\n",
    "print(f\"Macro Recall: {rec:.3f}\")\n",
    "print(f\"Macro F1-score: {f1:.3f}\")\n",
    "\n",
    "print(\"\\nDetailed per-rating breakdown:\\n\")\n",
    "print(classification_report(y_true, y_pred))"
   ]
  },
  {
   "cell_type": "markdown",
   "id": "8aa0b22e",
   "metadata": {},
   "source": [
    "## Semantic Similarity Few Shot"
   ]
  },
  {
   "cell_type": "markdown",
   "id": "d26f8e5c",
   "metadata": {},
   "source": [
    "Set up documents / vector store."
   ]
  },
  {
   "cell_type": "code",
   "execution_count": 11,
   "id": "fe4b0476",
   "metadata": {},
   "outputs": [],
   "source": [
    "documents = [Document(\n",
    "    page_content=\n",
    "        f\"English: {row[1]['English']}\\n\"\n",
    "        f\"Filipino-Flawed: {row[1]['Filipino-Flawed']}\\n\"\n",
    "        f\"Filipino-Correct: {row[1]['Filipino-Correct']}\\n\"\n",
    "        f\"Remarks: {row[1]['Remarks']}\",\n",
    "    metadata={\n",
    "        \"english\": row[1][\"English\"],\n",
    "        \"flawed\": row[1][\"Filipino-Flawed\"],\n",
    "        \"correct\": row[1][\"Filipino-Correct\"],\n",
    "        \"remarks\": row[1][\"Remarks\"]\n",
    "        # Would be good to add rating, type of flaw, etc. here as metadata\n",
    "    }\n",
    ") for row in training_df.iterrows()]\n",
    "\n",
    "doc_ids = [f\"train_{i}\" for i in range(len(documents))]\n",
    "\n",
    "texts = []\n",
    "text_ids = []\n",
    "for i, doc in enumerate(documents):\n",
    "    # Suppose metadata holds each segment\n",
    "    texts.append(doc.metadata[\"english\"])\n",
    "    text_ids.append(f\"train_{i}_en\")\n",
    "    texts.append(doc.metadata[\"flawed\"])\n",
    "    text_ids.append(f\"train_{i}_flawed\")\n",
    "    texts.append(doc.metadata[\"correct\"])\n",
    "    text_ids.append(f\"train_{i}_correct\")\n"
   ]
  },
  {
   "cell_type": "markdown",
   "id": "536b4ab4",
   "metadata": {},
   "source": [
    "TODO: Just abandon langchain chroma and just go straight to chroma db"
   ]
  },
  {
   "cell_type": "code",
   "execution_count": 19,
   "id": "c53b8735",
   "metadata": {},
   "outputs": [
    {
     "name": "stderr",
     "output_type": "stream",
     "text": [
      "/Users/riki/.cache/chroma/onnx_models/all-MiniLM-L6-v2/onnx.tar.gz: 100%|██████████| 79.3M/79.3M [00:46<00:00, 1.78MiB/s]\n"
     ]
    }
   ],
   "source": [
    "# from chromadb.utils.embedding_functions import SentenceTransformerEmbeddingFunction\n",
    "from chromadb import PersistentClient\n",
    "\n",
    "# ef = SentenceTransformerEmbeddingFunction(model_name=\"all-MiniLM-L6-v2\")\n",
    "client = PersistentClient(path=\"../vector_stores/chroma_db/agent_translation_eval_documents\")\n",
    "col = client.get_or_create_collection(name=\"agent_eval\")\n",
    "\n",
    "col.add(\n",
    "    documents=[doc.page_content for doc in documents],\n",
    "    ids=[f\"doc_{i}\" for i in range(len(documents))],\n",
    "    metadatas=[doc.metadata for doc in documents],\n",
    ")"
   ]
  },
  {
   "cell_type": "code",
   "execution_count": 20,
   "id": "677c04cf",
   "metadata": {},
   "outputs": [
    {
     "name": "stdout",
     "output_type": "stream",
     "text": [
      "ID: doc_0\n",
      "Doc: English: The Philippines is an archipelago made up of over 7 …\n",
      "Meta: {'correct': 'Ang Pilipinas ay isang kapulaang binubuo ng 7,640 na isla, ngunit 2,000 lamang ang tinitirahan', 'flawed': 'Ang Pilipinas ay isang puno na binubuo ng mahigit 7,640 manok, bagaman halos 2,000 lamang ang tumira.', 'english': 'The Philippines is an archipelago made up of over 7,640 islands, though only about 2,000 are inhabited.'}\n",
      "Embedding size: 384\n",
      "First 8 floats: [ 0.0868037  -0.0139881  -0.02492837  0.03443569 -0.06847151 -0.05465192\n",
      " -0.00600597 -0.00713197]\n",
      "————————————————————————————————————————\n",
      "ID: doc_1\n",
      "Doc: English: Philippines is the world's second-largest archipela …\n",
      "Meta: {'flawed': 'Ang Pilipinas ay ang pangalawang malaking isla sa asya', 'english': \"Philippines is the world's second-largest archipelago.\", 'correct': 'Ang Pilipinas ang pangalawa sa pinakamalaking kapuluan sa mundo'}\n",
      "Embedding size: 384\n",
      "First 8 floats: [ 0.09797665 -0.02525598 -0.00836756  0.04072418 -0.03064715 -0.07713386\n",
      "  0.00401083  0.00233627]\n",
      "————————————————————————————————————————\n",
      "ID: doc_2\n",
      "Doc: English: Filipino and English are the two official languages …\n",
      "Meta: {'flawed': 'Tagalog at Ingles ang dalawa opisyal lingwahe ng mga Pilipinas', 'english': 'Filipino and English are the two official languages of the Philippines.', 'correct': 'Filipino at Ingles ang dalawang opisyal na lingwahe ng Pilipinas'}\n",
      "Embedding size: 384\n",
      "First 8 floats: [ 0.01175378  0.00655792  0.01911567 -0.00814524 -0.01364746 -0.09451659\n",
      "  0.07629376  0.0154505 ]\n",
      "————————————————————————————————————————\n"
     ]
    }
   ],
   "source": [
    "# First collect 2–3 sample IDs\n",
    "sample_ids = [f\"doc_{i}\" for i in range(3)]\n",
    "\n",
    "# Query Chroma for embeddings, documents, and metadata\n",
    "records = col.get(\n",
    "    ids=sample_ids,\n",
    "    include=[\"embeddings\", \"documents\", \"metadatas\"],\n",
    ")\n",
    "\n",
    "for doc_id, doc_txt, meta, embed in zip(\n",
    "    records[\"ids\"],\n",
    "    records[\"documents\"],\n",
    "    records[\"metadatas\"],\n",
    "    records[\"embeddings\"],\n",
    "):\n",
    "    print(\"ID:\", doc_id)\n",
    "    print(\"Doc:\", doc_txt[:60], \"…\")\n",
    "    print(\"Meta:\", meta)\n",
    "    print(\"Embedding size:\", len(embed))\n",
    "    print(\"First 8 floats:\", embed[:8])\n",
    "    print(\"—\" * 40)\n"
   ]
  },
  {
   "cell_type": "markdown",
   "id": "876b14b3",
   "metadata": {},
   "source": [
    "TODO: Use the embeddings to conduct semantic similarity search."
   ]
  },
  {
   "cell_type": "code",
   "execution_count": null,
   "id": "4d3ae147",
   "metadata": {},
   "outputs": [],
   "source": [
    "system_message = \"\"\"\n",
    "You are a professional translation evaluator. Your job is to judge the quality of a Filipino translation of an English sentence.\n",
    "Assess the translation using with the following in mind:\n",
    "- Adequacy: How well does it preserve the original meaning?\n",
    "- Fluency: How natural and grammatically correct is the Filipino?\n",
    "- Lexical Choice: Are the word choices appropriate and accurate?\n",
    "\n",
    "Then: \n",
    "- Rate the translation from a scale of 1 to 5, serving as a combination of all three criteria with 1 being the worst and 5 being the best.\n",
    "- Provide a short explanation or remarks of why you gave that rating.\n",
    "\n",
    "BEFORE rating, list any most similar example(s) from training and how they influenced your decision, e.g.:\n",
    "\n",
    "\"Closest training sentence: '...'. Gave a score of 2 because the sentence was 'unnatural for native speakers'.\"\n",
    "\n",
    "Please format your response like this:\n",
    "English Sentence: ...\n",
    "Filipino Translation: ...\n",
    "Rating: ...\n",
    "Remarks: ...\n",
    "\"\"\"\n",
    "\n",
    "system_prompt = SystemMessagePromptTemplate.from_template(system_message)\n",
    "\n",
    "human_prompt = HumanMessagePromptTemplate.from_template(\n",
    "    \"English Sentence: {english}\\nFilipino Translation: {filipino}\"\n",
    ")\n",
    "\n",
    "ai_prompt = AIMessagePromptTemplate.from_template(\n",
    "    \"Rating: {rating}\\nRemarks: {remarks}\\n\"\n",
    ")\n",
    "\n",
    "example_prompt = ChatPromptTemplate.from_messages([\n",
    "    human_prompt,\n",
    "    ai_prompt,\n",
    "])\n",
    "\n",
    "few_shot_prompt = FewShotChatMessagePromptTemplate(\n",
    "    examples=[{\n",
    "        \"english\": ex[\"English\"],\n",
    "        \"filipino\": ex[\"Filipino-Correct\"],\n",
    "        \"rating\": ex[\"Rating\"],\n",
    "        \"remarks\": ex[\"Remarks\"],\n",
    "    } for ex in examples],\n",
    "    example_prompt=example_prompt,\n",
    ")\n",
    "\n",
    "final_prompt = ChatPromptTemplate.from_messages([\n",
    "    system_prompt,\n",
    "    few_shot_prompt,\n",
    "    human_prompt\n",
    "])"
   ]
  }
 ],
 "metadata": {
  "kernelspec": {
   "display_name": "Python 3",
   "language": "python",
   "name": "python3"
  },
  "language_info": {
   "codemirror_mode": {
    "name": "ipython",
    "version": 3
   },
   "file_extension": ".py",
   "mimetype": "text/x-python",
   "name": "python",
   "nbconvert_exporter": "python",
   "pygments_lexer": "ipython3",
   "version": "3.10.16"
  }
 },
 "nbformat": 4,
 "nbformat_minor": 5
}
